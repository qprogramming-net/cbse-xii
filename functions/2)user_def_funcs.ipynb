{
 "cells": [
  {
   "cell_type": "markdown",
   "source": [
    "# Creating user defined functions in python\r\n",
    "<hr>\r\n",
    "\r\n",
    "To create user defined functions, you have to use the `def` keyword and then writing the name of the function. \r\n",
    "\r\n",
    "It is recommended to use a name which is relevant to what the function is actually doing\r\n",
    "\r\n",
    "The **general syntax** is as follows:\r\n",
    "\r\n",
    "```python\r\n",
    "def function_name():\r\n",
    "\t<function definition>\r\n",
    "\r\n",
    "<code outside function definition>\r\n",
    "```\r\n"
   ],
   "metadata": {}
  },
  {
   "cell_type": "code",
   "execution_count": 9,
   "source": [
    "def say():\r\n",
    "    for i in range(3):\r\n",
    "        print(\"hi\")\r\n",
    "\r\n",
    "say()"
   ],
   "outputs": [
    {
     "output_type": "stream",
     "name": "stdout",
     "text": [
      "hi\n",
      "hi\n",
      "hi\n"
     ]
    }
   ],
   "metadata": {}
  },
  {
   "cell_type": "markdown",
   "source": [
    "# **Arguments and Parameters**\r\n",
    "\r\n",
    "## Arguments\r\n",
    "Arguments are the **values given to a function** at the time of the function call. \r\n"
   ],
   "metadata": {}
  },
  {
   "cell_type": "code",
   "execution_count": 10,
   "source": [
    "for i in range(2,10,3): #2,10,3 are arguments of range()\r\n",
    "    print(i)"
   ],
   "outputs": [
    {
     "output_type": "stream",
     "name": "stdout",
     "text": [
      "2\n",
      "5\n",
      "8\n"
     ]
    }
   ],
   "metadata": {}
  },
  {
   "cell_type": "markdown",
   "source": [
    "# Parameters \r\n",
    "If we want a user defined function to take arguments, we have to define it using **parameters**."
   ],
   "metadata": {}
  },
  {
   "cell_type": "code",
   "execution_count": 12,
   "source": [
    "def add(a,b): #a and b are parameters\r\n",
    "    print(a+b)\r\n",
    "\r\n",
    "add(2,3)     # 2 and 3 are arguments\r\n",
    "add(7,9)"
   ],
   "outputs": [
    {
     "output_type": "stream",
     "name": "stdout",
     "text": [
      "5\n",
      "16\n"
     ]
    }
   ],
   "metadata": {}
  },
  {
   "cell_type": "markdown",
   "source": [
    "## Argument v/s Parameter\r\n",
    "\r\n",
    "|      | Parameter                                                    | Argument                                                     |\r\n",
    "| ---- | ------------------------------------------------------------ | ------------------------------------------------------------ |\r\n",
    "| 1    | These are values used while defining the functions as placeholders for values | These are the values that are sent to the function when it is called |\r\n",
    "| 2    | Also called \"Formal Parameters\"                              | Also called \"Actual Parameters\"                              |\r\n"
   ],
   "metadata": {}
  },
  {
   "cell_type": "markdown",
   "source": [
    "### **Example**\r\n",
    "\r\n",
    " Create a function that will take in 2 arguments, the radius and the height, and will find the surface area and volume of a cylinder with those dimensions. The function should print these. Take the value of pi as 22/7\r\n",
    "\r\n",
    "The values of radius and height should be inputted from the user\r\n",
    "\r\n",
    "The expected output is:\r\n",
    "\r\n",
    "```python\r\n",
    "Enter radius: 10\r\n",
    "Enter height: 5\r\n",
    "\r\n",
    "Volume= 1885.7142\r\n",
    "Surface Area= 1005.7142\r\n",
    "```"
   ],
   "metadata": {}
  },
  {
   "cell_type": "code",
   "execution_count": 13,
   "source": [
    "def calculate(r,h):   #r and h are parameters\r\n",
    "    volume=(22/7)*r*r*h\r\n",
    "    surf_area=2*(22/7)*r*(r+h)\r\n",
    "    print(\"Volume =\",volume)\r\n",
    "    print(\"Surface area=\",surf_area)\r\n",
    "\r\n",
    "r=int(input(\"Enter radius:\"))\r\n",
    "h=int(input(\"Enter height:\"))\r\n",
    "calculate(r,h)  #r and h are arguments"
   ],
   "outputs": [
    {
     "output_type": "stream",
     "name": "stdout",
     "text": [
      "Volume = 1885.7142857142858\n",
      "Surface area= 1005.7142857142857\n"
     ]
    }
   ],
   "metadata": {}
  }
 ],
 "metadata": {
  "orig_nbformat": 4,
  "language_info": {
   "name": "python",
   "version": "3.8.3",
   "mimetype": "text/x-python",
   "codemirror_mode": {
    "name": "ipython",
    "version": 3
   },
   "pygments_lexer": "ipython3",
   "nbconvert_exporter": "python",
   "file_extension": ".py"
  },
  "kernelspec": {
   "name": "python3",
   "display_name": "Python 3.8.3 32-bit"
  },
  "interpreter": {
   "hash": "c107462c52813023912fce53f78c831d7502ab6cc009e386a460737ea03d756e"
  }
 },
 "nbformat": 4,
 "nbformat_minor": 2
}
