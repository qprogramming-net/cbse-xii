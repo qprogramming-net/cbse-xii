{
 "cells": [
  {
   "cell_type": "markdown",
   "source": [
    "# Types of Arguments\r\n",
    "\r\n",
    "- **Default Arguments**\r\n",
    "\r\n",
    "    In this, you can give the default value to a parameter while defining a function which it will take **if the value is not passed** while calling the function\r\n"
   ],
   "metadata": {}
  },
  {
   "cell_type": "code",
   "execution_count": 12,
   "source": [
    "def add(a=3,b=9):\r\n",
    "    print(a+b)\r\n",
    "\r\n",
    "add(2)\r\n",
    "add(2,7)\r\n",
    "add()"
   ],
   "outputs": [
    {
     "output_type": "stream",
     "name": "stdout",
     "text": [
      "11\n",
      "9\n",
      "12\n"
     ]
    }
   ],
   "metadata": {}
  },
  {
   "cell_type": "markdown",
   "source": [
    "- **Keyword Arguments**\r\n",
    "\r\n",
    "    These are the values you can give to parameters **while calling the function**\r\n",
    "\r\n",
    "    The special thing here is that the **order of the keyword arguments does not matter** as long as the **identifiers** are correct\r\n"
   ],
   "metadata": {}
  },
  {
   "cell_type": "code",
   "execution_count": 14,
   "source": [
    "def inc(a,b,c):\r\n",
    "    print(a+1,b+1,c+1)\r\n",
    "\r\n",
    "inc(2,3,4)\r\n",
    "inc(b=4,a=2,c=5)"
   ],
   "outputs": [
    {
     "output_type": "stream",
     "name": "stdout",
     "text": [
      "3 4 5\n",
      "3 5 6\n"
     ]
    }
   ],
   "metadata": {}
  },
  {
   "cell_type": "markdown",
   "source": [
    "- **Arbritrary Arguments(Args)**\r\n",
    "\r\n",
    "    These are used to store an **unknown number** of arguments. \r\n",
    "\r\n",
    "    Whatever arguments are received are stored in a **tuple**\r\n"
   ],
   "metadata": {}
  },
  {
   "cell_type": "code",
   "execution_count": 15,
   "source": [
    "def mult(*num):\r\n",
    "    for i in num:\r\n",
    "        print(i*5,end=\" \")\r\n",
    "\r\n",
    "mult(2,3)\r\n",
    "print(\"\\n\")\r\n",
    "mult(2,3,4,5,6)"
   ],
   "outputs": [
    {
     "output_type": "stream",
     "name": "stdout",
     "text": [
      "10 15 \n",
      "\n",
      "10 15 20 25 30 "
     ]
    }
   ],
   "metadata": {}
  },
  {
   "cell_type": "markdown",
   "source": [
    "- **Keyword Arbitrary Arguments(Kwargs)**\r\n",
    "\r\n",
    "  These are used to store an **unknown number** of keyword arguments but with each argument having keywords assigned to them. \r\n",
    "  \r\n",
    "  The keyword arguments are stored in the form of a **dictionary**."
   ],
   "metadata": {}
  },
  {
   "cell_type": "code",
   "execution_count": 16,
   "source": [
    "def login(**details):\r\n",
    "    print(\"Username:\",details[\"username\"],\"Password:\",details[\"password\"])\r\n",
    "\r\n",
    "login(username=\"Arjun\",password=\"hello\")"
   ],
   "outputs": [
    {
     "output_type": "stream",
     "name": "stdout",
     "text": [
      "Username: Arjun Password: hello\n"
     ]
    }
   ],
   "metadata": {}
  },
  {
   "cell_type": "code",
   "execution_count": null,
   "source": [],
   "outputs": [],
   "metadata": {}
  }
 ],
 "metadata": {
  "orig_nbformat": 4,
  "language_info": {
   "name": "python",
   "version": "3.8.3",
   "mimetype": "text/x-python",
   "codemirror_mode": {
    "name": "ipython",
    "version": 3
   },
   "pygments_lexer": "ipython3",
   "nbconvert_exporter": "python",
   "file_extension": ".py"
  },
  "kernelspec": {
   "name": "python3",
   "display_name": "Python 3.8.3 32-bit"
  },
  "interpreter": {
   "hash": "c107462c52813023912fce53f78c831d7502ab6cc009e386a460737ea03d756e"
  }
 },
 "nbformat": 4,
 "nbformat_minor": 2
}