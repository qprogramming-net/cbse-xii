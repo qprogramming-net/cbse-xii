{
 "cells": [
  {
   "cell_type": "markdown",
   "source": [
    "<font color=\"#30e4ac\">\r\n",
    "<h1>Python function returns</h1></font>\r\n",
    "<hr>\r\n",
    "\r\n",
    "We use the `return` statement in functions when we want the function to **output a value** but not necessarily display it.\r\n",
    "\r\n",
    "When we return an object in a function, the data stored in the object can be assigned to a variable or used in an operation\r\n",
    "\r\n"
   ],
   "metadata": {}
  },
  {
   "cell_type": "code",
   "execution_count": 6,
   "source": [
    "def add(n):\r\n",
    "    return n+5\r\n",
    "\r\n",
    "k=int(input(\"Enter:\"))\r\n",
    "if add(k)>10:\r\n",
    "    print(\"yes\")"
   ],
   "outputs": [
    {
     "output_type": "stream",
     "name": "stdout",
     "text": [
      "yes\n"
     ]
    }
   ],
   "metadata": {}
  },
  {
   "cell_type": "markdown",
   "source": [
    "You can think of a return value giving us an output on which we can perform operations\r\n",
    "\r\n",
    "By default, a function returns `None` if no return statement is used"
   ],
   "metadata": {}
  },
  {
   "cell_type": "code",
   "execution_count": 8,
   "source": [
    "#Prime number detection\r\n",
    "\r\n",
    "def isprime(n):\r\n",
    "    for i in range(2,n):\r\n",
    "        if n%i==0:\r\n",
    "            return False\r\n",
    "    return True  \r\n",
    "\r\n",
    "k=int(input(\"Enter number:\"))\r\n",
    "\r\n",
    "if isprime(k):\r\n",
    "    print(\"Prime\")\r\n",
    "else:\r\n",
    "    print(\"Composite\")"
   ],
   "outputs": [
    {
     "output_type": "stream",
     "name": "stdout",
     "text": [
      "Composite\n"
     ]
    }
   ],
   "metadata": {}
  },
  {
   "cell_type": "markdown",
   "source": [
    "**Multiple Returns**\r\n",
    "\r\n",
    "A function can also return many values, and we will have to seperate the values by commas\r\n",
    "\r\n",
    "It comes in the form of a `tuple`"
   ],
   "metadata": {}
  },
  {
   "cell_type": "code",
   "execution_count": 10,
   "source": [
    "def add(a,b,c):\r\n",
    "    return a+1,b+2,c+3\r\n",
    "\r\n",
    "print(type(add(2,3,4)))"
   ],
   "outputs": [
    {
     "output_type": "stream",
     "name": "stdout",
     "text": [
      "<class 'tuple'>\n"
     ]
    }
   ],
   "metadata": {}
  },
  {
   "cell_type": "code",
   "execution_count": null,
   "source": [],
   "outputs": [],
   "metadata": {}
  }
 ],
 "metadata": {
  "orig_nbformat": 4,
  "language_info": {
   "name": "python",
   "version": "3.9.6",
   "mimetype": "text/x-python",
   "codemirror_mode": {
    "name": "ipython",
    "version": 3
   },
   "pygments_lexer": "ipython3",
   "nbconvert_exporter": "python",
   "file_extension": ".py"
  },
  "kernelspec": {
   "name": "python3",
   "display_name": "Python 3.9.6 64-bit"
  },
  "interpreter": {
   "hash": "63fd5069d213b44bf678585dea6b12cceca9941eaf7f819626cde1f2670de90d"
  }
 },
 "nbformat": 4,
 "nbformat_minor": 2
}