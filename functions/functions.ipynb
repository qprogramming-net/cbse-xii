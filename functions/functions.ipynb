{
 "cells": [
  {
   "cell_type": "markdown",
   "source": [
    "# Functions in python\r\n",
    "<hr>\r\n",
    "Functions are series of steps or instructions to complete a specific task\r\n",
    "\r\n",
    "The advantages of using functions in python programming are:\r\n",
    "\r\n",
    "- They **increase readability**, particularly for longer codes, since a function can be called at any point in the program\r\n",
    "- They **reduce code length**, since the same code is not repeated in different places\r\n",
    "- They allow **reuse of code**"
   ],
   "metadata": {}
  },
  {
   "cell_type": "markdown",
   "source": [
    "# Types of Functions\r\n",
    "\r\n",
    "### <b>1) Built-in Function</b>\r\n",
    "\r\n",
    "- These are the functions that are ready-made in python, and are frequently used in many programs.\r\n",
    "- These do **not** need to be imported\r\n"
   ],
   "metadata": {}
  },
  {
   "cell_type": "code",
   "execution_count": 11,
   "source": [
    "print(\"hello\")\r\n",
    "input(\"hello\")\r\n",
    "for i in range(10):\r\n",
    "    print(i)"
   ],
   "outputs": [
    {
     "output_type": "stream",
     "name": "stdout",
     "text": [
      "hello\n",
      "0\n",
      "1\n",
      "2\n",
      "3\n",
      "4\n",
      "5\n",
      "6\n",
      "7\n",
      "8\n",
      "9\n"
     ]
    }
   ],
   "metadata": {}
  },
  {
   "cell_type": "markdown",
   "source": [
    "### <b>2) Module Functions</b>\r\n",
    "\r\n",
    "- The python standard libraries consists of collections functions other than inbuilt ones, which can be used through **modules**\r\n",
    "- Modules are a **group of functions** that can be imported into a program by the import statement and can be used accordingly.\r\n",
    "- Modules have a `.py` extension\r\n",
    "- In fact, when you make a file such as `code.py` you are making a module!"
   ],
   "metadata": {}
  },
  {
   "cell_type": "code",
   "execution_count": 12,
   "source": [
    "import math\r\n",
    "print(math.sqrt(25))\r\n",
    "print(math.log(2))"
   ],
   "outputs": [
    {
     "output_type": "stream",
     "name": "stdout",
     "text": [
      "5.0\n",
      "0.6931471805599453\n"
     ]
    }
   ],
   "metadata": {}
  },
  {
   "cell_type": "markdown",
   "source": [
    "### Ways to import modules\r\n",
    "- import <i>module_name</i>\r\n",
    "\r\n",
    "    To call a function in a module imported this way, you must write the **name of the module** before it\r\n"
   ],
   "metadata": {}
  },
  {
   "cell_type": "code",
   "execution_count": 13,
   "source": [
    "import random\r\n",
    "print(random.randint(2,10))"
   ],
   "outputs": [
    {
     "output_type": "stream",
     "name": "stdout",
     "text": [
      "4\n"
     ]
    }
   ],
   "metadata": {}
  },
  {
   "cell_type": "markdown",
   "source": [
    "- import _modulename_ as _newname_\r\n",
    "\r\n",
    "    In this method, you can import a module with **any name you want** and you can use that name before calling a function\r\n",
    "\r\n",
    "    This new name is known as an **alias**  and it points to the module object in the memory.\r\n"
   ],
   "metadata": {}
  },
  {
   "cell_type": "code",
   "execution_count": 14,
   "source": [
    "import statistics as st\r\n",
    "st.mean([2,3,4,5,6])"
   ],
   "outputs": [
    {
     "output_type": "execute_result",
     "data": {
      "text/plain": [
       "4"
      ]
     },
     "metadata": {},
     "execution_count": 14
    }
   ],
   "metadata": {}
  },
  {
   "cell_type": "markdown",
   "source": [
    "- from _modulename_ import _function1_,_function2_,...\r\n",
    "\r\n",
    "    In this method, **you don't need to specify the modules name** before calling a function, since you will be importing specific functions from it\r\n",
    "\r\n",
    "    To import **all the functions** from a python module, you can simply use an * instead of the function names\r\n",
    "\r\n",
    "\r\n"
   ],
   "metadata": {}
  },
  {
   "cell_type": "code",
   "execution_count": 21,
   "source": [
    "from math import *\r\n",
    "print(fabs(-10))\r\n",
    "print(sqrt(9))\r\n",
    "print(log(e))"
   ],
   "outputs": [
    {
     "output_type": "stream",
     "name": "stdout",
     "text": [
      "10.0\n",
      "3.0\n",
      "1.0\n"
     ]
    }
   ],
   "metadata": {}
  },
  {
   "cell_type": "markdown",
   "source": [
    "### <b>3) User Defined Functions</b>\r\n",
    "\r\n",
    "These are functions the **user can define** and **use** in their programs. \r\n"
   ],
   "metadata": {}
  },
  {
   "cell_type": "code",
   "execution_count": 22,
   "source": [
    "def sum(a,b):\r\n",
    "    print(a+b)\r\n",
    "\r\n",
    "sum(2,5)"
   ],
   "outputs": [
    {
     "output_type": "stream",
     "name": "stdout",
     "text": [
      "7\n"
     ]
    }
   ],
   "metadata": {}
  }
 ],
 "metadata": {
  "orig_nbformat": 4,
  "language_info": {
   "name": "python",
   "version": "3.8.3",
   "mimetype": "text/x-python",
   "codemirror_mode": {
    "name": "ipython",
    "version": 3
   },
   "pygments_lexer": "ipython3",
   "nbconvert_exporter": "python",
   "file_extension": ".py"
  },
  "kernelspec": {
   "name": "python3",
   "display_name": "Python 3.8.3 32-bit"
  },
  "interpreter": {
   "hash": "c107462c52813023912fce53f78c831d7502ab6cc009e386a460737ea03d756e"
  }
 },
 "nbformat": 4,
 "nbformat_minor": 2
}
